{
 "cells": [
  {
   "cell_type": "code",
   "execution_count": null,
   "id": "e1eb77dd",
   "metadata": {},
   "outputs": [],
   "source": [
    "pip install ultralytics"
   ]
  },
  {
   "cell_type": "code",
   "execution_count": null,
   "id": "c188db21",
   "metadata": {},
   "outputs": [],
   "source": [
    "pip install cvzone opencv-python"
   ]
  },
  {
   "cell_type": "code",
   "execution_count": null,
   "id": "4b4871d9",
   "metadata": {},
   "outputs": [],
   "source": [
    "from ultralytics import YOLO\n",
    "import cvzone\n",
    "import cv2\n",
    "import math"
   ]
  },
  {
   "cell_type": "code",
   "execution_count": null,
   "id": "7474b8e5",
   "metadata": {},
   "outputs": [],
   "source": [
    "cap = cv2.VideoCapture(0)\n",
    "model = YOLO('best.pt')\n",
    "\n",
    "classnames = ['fire']\n",
    "\n",
    "while True:\n",
    "    ret,frame = cap.read()\n",
    "    frame = cv2.resize(frame,(640,480))\n",
    "    result = model(frame,stream=True)\n",
    "\n",
    "    for info in result:\n",
    "        boxes = info.boxes\n",
    "        for box in boxes:\n",
    "            confidence = box.conf[0]\n",
    "            confidence = math.ceil(confidence * 100)\n",
    "            Class = int(box.cls[0])\n",
    "            if confidence >50:\n",
    "                x1,y1,x2,y2 = box.xyxy[0]\n",
    "                x1, y1, x2, y2 = int(x1),int(y1),int(x2),int(y2)\n",
    "                cv2.rectangle(frame,(x1,y1),(x2,y2),(0,0,255),5)\n",
    "                cvzone.putTextRect(frame, f'{classnames[Class]} {confidence}%', [x1 + 8, y1 + 100],\n",
    "                                   scale=1.5,thickness=2)\n",
    "\n",
    "\n",
    "\n",
    "\n",
    "    cv2.imshow('frame',frame)\n",
    "    cv2.waitKey(1)"
   ]
  },
  {
   "cell_type": "code",
   "execution_count": null,
   "id": "03ad519c",
   "metadata": {},
   "outputs": [],
   "source": [
    "model = YOLO('best.pt')\n",
    "\n",
    "model.predict(source=0,imgsz=640,conf=0.6,show=True)"
   ]
  },
  {
   "cell_type": "code",
   "execution_count": null,
   "id": "01cc30c0",
   "metadata": {},
   "outputs": [],
   "source": []
  },
  {
   "cell_type": "code",
   "execution_count": null,
   "id": "8b58b5bb",
   "metadata": {},
   "outputs": [],
   "source": []
  }
 ],
 "metadata": {
  "kernelspec": {
   "display_name": "Fire",
   "language": "python",
   "name": "fire"
  },
  "language_info": {
   "codemirror_mode": {
    "name": "ipython",
    "version": 3
   },
   "file_extension": ".py",
   "mimetype": "text/x-python",
   "name": "python",
   "nbconvert_exporter": "python",
   "pygments_lexer": "ipython3",
   "version": "3.11.7"
  }
 },
 "nbformat": 4,
 "nbformat_minor": 5
}
